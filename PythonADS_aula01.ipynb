{
  "nbformat": 4,
  "nbformat_minor": 0,
  "metadata": {
    "colab": {
      "name": "PythonADS aula01.ipynb",
      "provenance": [],
      "authorship_tag": "ABX9TyPIGbOjrOT+iFYpDLNP3D3S",
      "include_colab_link": true
    },
    "kernelspec": {
      "name": "python3",
      "display_name": "Python 3"
    },
    "language_info": {
      "name": "python"
    }
  },
  "cells": [
    {
      "cell_type": "markdown",
      "metadata": {
        "id": "view-in-github",
        "colab_type": "text"
      },
      "source": [
        "<a href=\"https://colab.research.google.com/github/Rafajef/Rafajef/blob/main/PythonADS_aula01.ipynb\" target=\"_parent\"><img src=\"https://colab.research.google.com/assets/colab-badge.svg\" alt=\"Open In Colab\"/></a>"
      ]
    },
    {
      "cell_type": "code",
      "source": [
        "x =10\n",
        "nome = 'aluno'\n",
        "nota = 8.75\n",
        "fez_inscricao = True\n",
        "\n",
        "print(type(x))\n",
        "print(type(nome))\n",
        "print(type(nota))\n",
        "print(type(fez_inscricao))\n"
      ],
      "metadata": {
        "colab": {
          "base_uri": "https://localhost:8080/"
        },
        "id": "Qy6q_wLfUZs2",
        "outputId": "3469bb08-9c3d-4201-db5d-9e250db1959d"
      },
      "execution_count": null,
      "outputs": [
        {
          "output_type": "stream",
          "name": "stdout",
          "text": [
            "<class 'int'>\n",
            "<class 'str'>\n",
            "<class 'float'>\n",
            "<class 'bool'>\n"
          ]
        }
      ]
    },
    {
      "cell_type": "code",
      "source": [
        "nome = input(\"Digite um nome: \")\n",
        "\n",
        "print(\"Olá %s, bem vindo a disciplina de programação. Parabéns pelo seu primeiro hello word\" % (nome)) #Modelo comum"
      ],
      "metadata": {
        "colab": {
          "base_uri": "https://localhost:8080/"
        },
        "id": "lHO11pMVV5jA",
        "outputId": "e5c5cf2d-29df-4ad0-bfe5-07a8dc036ef7"
      },
      "execution_count": null,
      "outputs": [
        {
          "output_type": "stream",
          "name": "stdout",
          "text": [
            "Digite um nome: Rafael\n",
            "Olá Rafael, bem vindo a disciplina de programação. Parabéns pelo seu primeiro hello word\n"
          ]
        }
      ]
    },
    {
      "cell_type": "code",
      "source": [
        "nome = input(\"Digite um nome: \")\n",
        "\n",
        "print(\"Olá {}, bem vindo a disciplina de programação. Parabéns pelo seu primeiro hello word\".format(nome)) #comFormat"
      ],
      "metadata": {
        "colab": {
          "base_uri": "https://localhost:8080/"
        },
        "id": "wMBhIeP_Wwap",
        "outputId": "2c2b2f59-e449-4bee-dfa3-97929af5f3aa"
      },
      "execution_count": null,
      "outputs": [
        {
          "output_type": "stream",
          "name": "stdout",
          "text": [
            "Digite um nome: Rafael\n",
            "Olá Rafael, bem vindo a disciplina de programação. Parabéns pelo seu primeiro hello word\n"
          ]
        }
      ]
    },
    {
      "cell_type": "code",
      "source": [
        "nome = input(\"Digite um nome: \")\n",
        "\n",
        "print(f\"Olá {nome}, bem vindo a disciplina de programação. Parabéns pelo seu primeiro hello word\") #comStrigRECOMENDADO"
      ],
      "metadata": {
        "colab": {
          "base_uri": "https://localhost:8080/"
        },
        "id": "YHrJCEGOXP_l",
        "outputId": "34801acd-4011-4bb4-865c-58b05af69a09"
      },
      "execution_count": null,
      "outputs": [
        {
          "output_type": "stream",
          "name": "stdout",
          "text": [
            "Digite um nome: Rafael\n",
            "Olá Rafael, bem vindo a disciplina de programação. Parabéns pelo seu primeiro hello word\n"
          ]
        }
      ]
    },
    {
      "cell_type": "code",
      "source": [
        "a = 2\n",
        "b = 0.5\n",
        "c = 1\n",
        "x = input(\"Digite o valor de x: \")\n",
        "\n",
        "print(type(a))\n",
        "print(type(b))\n",
        "print(type(c))\n",
        "print(type(x))\n",
        "\n",
        "x = float(x)\n",
        "\n",
        "y = a * x ** 2 + b * x + c\n",
        "\n",
        "print(f\"O resultado de y para x = {x} é {y}.\")\n",
        "\n",
        "print(type(a))\n",
        "print(type(b))\n",
        "print(type(c))\n",
        "print(type(x))"
      ],
      "metadata": {
        "colab": {
          "base_uri": "https://localhost:8080/"
        },
        "id": "WT6ok_sic6Wt",
        "outputId": "e576b4ef-cf4f-49e0-eb9a-5803870062cd"
      },
      "execution_count": null,
      "outputs": [
        {
          "output_type": "stream",
          "name": "stdout",
          "text": [
            "Digite o valor de x: 1\n",
            "<class 'int'>\n",
            "<class 'float'>\n",
            "<class 'int'>\n",
            "<class 'str'>\n",
            "O resultado de y para x = 1.0 é 3.5.\n",
            "<class 'int'>\n",
            "<class 'float'>\n",
            "<class 'int'>\n",
            "<class 'float'>\n"
          ]
        }
      ]
    }
  ]
}