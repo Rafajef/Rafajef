{
  "nbformat": 4,
  "nbformat_minor": 0,
  "metadata": {
    "colab": {
      "name": "PythonADS aula01.ipynb",
      "provenance": [],
      "authorship_tag": "ABX9TyMAo1AnSuNkpKqgpu1uN6cu",
      "include_colab_link": true
    },
    "kernelspec": {
      "name": "python3",
      "display_name": "Python 3"
    },
    "language_info": {
      "name": "python"
    }
  },
  "cells": [
    {
      "cell_type": "markdown",
      "metadata": {
        "id": "view-in-github",
        "colab_type": "text"
      },
      "source": [
        "<a href=\"https://colab.research.google.com/github/Rafajef/Rafajef/blob/main/PythonADS_aula01.ipynb\" target=\"_parent\"><img src=\"https://colab.research.google.com/assets/colab-badge.svg\" alt=\"Open In Colab\"/></a>"
      ]
    },
    {
      "cell_type": "code",
      "source": [
        "x =10\n",
        "nome = 'aluno'\n",
        "nota = 8.75\n",
        "fez_inscricao = True\n",
        "\n",
        "print(type(x))\n",
        "print(type(nome))\n",
        "print(type(nota))\n",
        "print(type(fez_inscricao))\n"
      ],
      "metadata": {
        "colab": {
          "base_uri": "https://localhost:8080/"
        },
        "id": "Qy6q_wLfUZs2",
        "outputId": "3469bb08-9c3d-4201-db5d-9e250db1959d"
      },
      "execution_count": null,
      "outputs": [
        {
          "output_type": "stream",
          "name": "stdout",
          "text": [
            "<class 'int'>\n",
            "<class 'str'>\n",
            "<class 'float'>\n",
            "<class 'bool'>\n"
          ]
        }
      ]
    },
    {
      "cell_type": "code",
      "source": [
        "nome = input(\"Digite um nome: \")\n",
        "\n",
        "print(\"Olá %s, bem vindo a disciplina de programação. Parabéns pelo seu primeiro hello word\" % (nome)) #Modelo comum"
      ],
      "metadata": {
        "colab": {
          "base_uri": "https://localhost:8080/"
        },
        "id": "lHO11pMVV5jA",
        "outputId": "e5c5cf2d-29df-4ad0-bfe5-07a8dc036ef7"
      },
      "execution_count": null,
      "outputs": [
        {
          "output_type": "stream",
          "name": "stdout",
          "text": [
            "Digite um nome: Rafael\n",
            "Olá Rafael, bem vindo a disciplina de programação. Parabéns pelo seu primeiro hello word\n"
          ]
        }
      ]
    },
    {
      "cell_type": "code",
      "source": [
        "nome = input(\"Digite um nome: \")\n",
        "\n",
        "print(\"Olá {}, bem vindo a disciplina de programação. Parabéns pelo seu primeiro hello word\".format(nome)) #comFormat"
      ],
      "metadata": {
        "colab": {
          "base_uri": "https://localhost:8080/"
        },
        "id": "wMBhIeP_Wwap",
        "outputId": "2c2b2f59-e449-4bee-dfa3-97929af5f3aa"
      },
      "execution_count": null,
      "outputs": [
        {
          "output_type": "stream",
          "name": "stdout",
          "text": [
            "Digite um nome: Rafael\n",
            "Olá Rafael, bem vindo a disciplina de programação. Parabéns pelo seu primeiro hello word\n"
          ]
        }
      ]
    },
    {
      "cell_type": "code",
      "source": [
        "nome = input(\"Digite um nome: \")\n",
        "\n",
        "print(f\"Olá {nome}, bem vindo a disciplina de programação. Parabéns pelo seu primeiro hello word\") #comStrigRECOMENDADO"
      ],
      "metadata": {
        "colab": {
          "base_uri": "https://localhost:8080/"
        },
        "id": "YHrJCEGOXP_l",
        "outputId": "34801acd-4011-4bb4-865c-58b05af69a09"
      },
      "execution_count": null,
      "outputs": [
        {
          "output_type": "stream",
          "name": "stdout",
          "text": [
            "Digite um nome: Rafael\n",
            "Olá Rafael, bem vindo a disciplina de programação. Parabéns pelo seu primeiro hello word\n"
          ]
        }
      ]
    },
    {
      "cell_type": "code",
      "source": [
        "a = 2\n",
        "b = 0.5\n",
        "c = 1\n",
        "x = input(\"Digite o valor de x: \")\n",
        "\n",
        "print(type(a))\n",
        "print(type(b))\n",
        "print(type(c))\n",
        "print(type(x))\n",
        "\n",
        "x = float(x)\n",
        "\n",
        "y = a * x ** 2 + b * x + c\n",
        "\n",
        "print(f\"O resultado de y para x = {x} é {y}.\")\n",
        "\n",
        "print(type(a))\n",
        "print(type(b))\n",
        "print(type(c))\n",
        "print(type(x))"
      ],
      "metadata": {
        "colab": {
          "base_uri": "https://localhost:8080/"
        },
        "id": "WT6ok_sic6Wt",
        "outputId": "e576b4ef-cf4f-49e0-eb9a-5803870062cd"
      },
      "execution_count": null,
      "outputs": [
        {
          "output_type": "stream",
          "name": "stdout",
          "text": [
            "Digite o valor de x: 1\n",
            "<class 'int'>\n",
            "<class 'float'>\n",
            "<class 'int'>\n",
            "<class 'str'>\n",
            "O resultado de y para x = 1.0 é 3.5.\n",
            "<class 'int'>\n",
            "<class 'float'>\n",
            "<class 'int'>\n",
            "<class 'float'>\n"
          ]
        }
      ]
    },
    {
      "cell_type": "code",
      "source": [
        "a = 5    # Estrutura Simples\n",
        "b = 10\n",
        "\n",
        "if a < b:\n",
        "    print(\"a é menor do que b\")\n",
        "    r = a + b\n",
        "    print(r)\n",
        "\n"
      ],
      "metadata": {
        "id": "PenQSz_Qj3Zo",
        "outputId": "00c6d211-6228-4151-d751-3cf2f24a34c2",
        "colab": {
          "base_uri": "https://localhost:8080/"
        }
      },
      "execution_count": 1,
      "outputs": [
        {
          "output_type": "stream",
          "name": "stdout",
          "text": [
            "a é menor do que b\n",
            "15\n"
          ]
        }
      ]
    },
    {
      "cell_type": "code",
      "source": [
        "a = 10   # Estrutura Composta\n",
        "b = 5 \n",
        "if a < b:\n",
        "    print(\"a é menor do que b\")\n",
        "    r = a + b\n",
        "    print(r)\n",
        "else:\n",
        "    print(\"a é maior que b\")\n",
        "    r = a - b\n",
        "    print(r)    \n"
      ],
      "metadata": {
        "id": "MVM0ZNM1kQRG",
        "outputId": "6a9a69bc-d05f-4e48-ef4e-8f457ec404d9",
        "colab": {
          "base_uri": "https://localhost:8080/"
        }
      },
      "execution_count": 2,
      "outputs": [
        {
          "output_type": "stream",
          "name": "stdout",
          "text": [
            "a é maior que b\n",
            "5\n"
          ]
        }
      ]
    },
    {
      "cell_type": "code",
      "source": [
        "codigo_compra = 5333 #Estrutura Encadeada\n",
        "\n",
        "if codigo_compra == 5222:\n",
        "    print(\"Compra à vista.\")\n",
        "elif codigo_compra == 5333:\n",
        "    print(\"Compra à prazo no boleto.\")\n",
        "elif codigo_compra == 5444:\n",
        "    print(\"Compra à prazo no cartão.\")\n",
        "else:\n",
        "    print(\"Código não cadastrado\")"
      ],
      "metadata": {
        "id": "sJkNycPtk5_p",
        "outputId": "f253c5f7-243c-4f39-cd2c-983c7c121ac4",
        "colab": {
          "base_uri": "https://localhost:8080/"
        }
      },
      "execution_count": 4,
      "outputs": [
        {
          "output_type": "stream",
          "name": "stdout",
          "text": [
            "Compra à prazo no boleto.\n"
          ]
        }
      ]
    },
    {
      "cell_type": "code",
      "source": [
        ""
      ],
      "metadata": {
        "id": "jEFKlV4UmJEq"
      },
      "execution_count": null,
      "outputs": []
    }
  ]
}